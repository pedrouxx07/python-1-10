{
  "nbformat": 4,
  "nbformat_minor": 0,
  "metadata": {
    "colab": {
      "provenance": [],
      "authorship_tag": "ABX9TyPhP2QTgNh/UlJy0PYOcLRF",
      "include_colab_link": true
    },
    "kernelspec": {
      "name": "python3",
      "display_name": "Python 3"
    },
    "language_info": {
      "name": "python"
    }
  },
  "cells": [
    {
      "cell_type": "markdown",
      "metadata": {
        "id": "view-in-github",
        "colab_type": "text"
      },
      "source": [
        "<a href=\"https://colab.research.google.com/github/pedrouxx07/python-1-10/blob/main/Untitled0.ipynb\" target=\"_parent\"><img src=\"https://colab.research.google.com/assets/colab-badge.svg\" alt=\"Open In Colab\"/></a>"
      ]
    },
    {
      "cell_type": "markdown",
      "source": [
        "Questão 1\n"
      ],
      "metadata": {
        "id": "81Q2HJ83VLn2"
      }
    },
    {
      "cell_type": "code",
      "execution_count": 13,
      "metadata": {
        "colab": {
          "base_uri": "https://localhost:8080/",
          "height": 391
        },
        "id": "RmQAiUFVQm2x",
        "outputId": "5203868d-624e-414e-aaa2-14b56655d687"
      },
      "outputs": [
        {
          "output_type": "stream",
          "name": "stdout",
          "text": [
            "Diga o valor dos alimentos e falarei se está acima da media naciona\n"
       
          ]
        }
      ],
      "source": [
        "print(\"Diga o valor dos alimentos e falarei se está acima da media naciona\")\n",
        "\n",
        "media_arroz = 7   # R$ 7,00\n",
        "media_feijao = 8  # R$ 8,00\n",
        "media_carne = 25  # R$ 25,00\n",
        "media_macarrao = 4  # R$ 4,00\n",
        "\n",
        "arroz = int(input(\"Digite o valor do arroz: \"))\n",
        "feijao = int(input(\"Digite o valor do feijão : \"))\n",
        "carne = int(input(\"Digite o valor da carne por KG : \"))\n",
        "macarrao = int(input(\"Digite o valor do macarrão : \"))\n",
        "\n",
        "if arroz > media_arroz:\n",
        "    print(\"Arroz esta acima da media nacional.\")\n",
        "else:\n",
        "    print(\"Arroz esta na media ou abaixo da media nacional.\")\n",
        "if feijao > media_feijao:\n",
        "    print(\"Feijão esta acima da media nacional.\")\n",
        "else:\n",
        "    print(\"Feijão esta na media ou abaixo da media nacional.\")\n",
        "if carne > media_carne:\n",
        "    print(\"Carne esta acima da media nacional.\")\n",
        "else:\n",
        "    print(\"Carne esta na media ou abaixo da media nacional.\")\n",
        "if macarrao > media_macarrao:\n",
        "    print(\"Macarrão esta acima da media nacional.\")\n",
        "else:\n",
        "    print(\"Macarrão esta na media ou abaixo da media nacional.\")"
      ]
    },
    {
      "cell_type": "markdown",
      "source": [
        "Questão 2"
      ],
      "metadata": {
        "id": "WwMK0XYGVEDd"
      }
    },
    {
      "cell_type": "code",
      "source": [
        "print(\"Diga um numero inteiro e falarei se é impar ou par, negativo ou positivo\")\n",
        "\n",
        "var = int(input(\"Digite um numero inteiro:\"))\n",
        "\n",
        "if var > 0:\n",
        "    print(\"O numero é positivo\")\n",
        "if var < 0:\n",
        "    print(\"O numero é negativo\")\n",
        "else:\n",
        "    print(\"O numero é zero\")\n",
        "\n",
        "if var % 2 == 0:\n",
        "    print(\"O numero é par\")\n",
        "else:\n",
        "    print(\"O numero é impar\")"
      ],
      "metadata": {
        "colab": {
          "base_uri": "https://localhost:8080/",
          "height": 391
        },
        "id": "oyEOW4i7U8EN",
        "outputId": "120025cf-1a7b-4c1d-f86e-ebf9a33729a8"
      },
      "execution_count": 15,
      "outputs": [
        {
          "output_type": "stream",
          "name": "stdout",
          "text": [
            "Diga um numero inteiro e falarei se é impar ou par, negativo ou positivo\n"
          ]
        },
        {
          "output_type": "error",
          "ename": "KeyboardInterrupt",
          "evalue": "Interrupted by user",
          "traceback": [
            "\u001b[0;31m---------------------------------------------------------------------------\u001b[0m",
            "\u001b[0;31mKeyboardInterrupt\u001b[0m                         Traceback (most recent call last)",
            "\u001b[0;32m/tmp/ipython-input-848935828.py\u001b[0m in \u001b[0;36m<cell line: 0>\u001b[0;34m()\u001b[0m\n\u001b[1;32m      1\u001b[0m \u001b[0mprint\u001b[0m\u001b[0;34m(\u001b[0m\u001b[0;34m\"Diga um numero inteiro e falarei se é impar ou par, negativo ou positivo\"\u001b[0m\u001b[0;34m)\u001b[0m\u001b[0;34m\u001b[0m\u001b[0;34m\u001b[0m\u001b[0m\n\u001b[1;32m      2\u001b[0m \u001b[0;34m\u001b[0m\u001b[0m\n\u001b[0;32m----> 3\u001b[0;31m \u001b[0mvar\u001b[0m \u001b[0;34m=\u001b[0m \u001b[0mint\u001b[0m\u001b[0;34m(\u001b[0m\u001b[0minput\u001b[0m\u001b[0;34m(\u001b[0m\u001b[0;34m\"Digite um numero inteiro:\"\u001b[0m\u001b[0;34m)\u001b[0m\u001b[0;34m)\u001b[0m\u001b[0;34m\u001b[0m\u001b[0;34m\u001b[0m\u001b[0m\n\u001b[0m\u001b[1;32m      4\u001b[0m \u001b[0;34m\u001b[0m\u001b[0m\n\u001b[1;32m      5\u001b[0m \u001b[0;32mif\u001b[0m \u001b[0mvar\u001b[0m \u001b[0;34m>\u001b[0m \u001b[0;36m0\u001b[0m\u001b[0;34m:\u001b[0m\u001b[0;34m\u001b[0m\u001b[0;34m\u001b[0m\u001b[0m\n",
            "\u001b[0;32m/usr/local/lib/python3.12/dist-packages/ipykernel/kernelbase.py\u001b[0m in \u001b[0;36mraw_input\u001b[0;34m(self, prompt)\u001b[0m\n\u001b[1;32m   1175\u001b[0m                 \u001b[0;34m\"raw_input was called, but this frontend does not support input requests.\"\u001b[0m\u001b[0;34m\u001b[0m\u001b[0;34m\u001b[0m\u001b[0m\n\u001b[1;32m   1176\u001b[0m             )\n\u001b[0;32m-> 1177\u001b[0;31m         return self._input_request(\n\u001b[0m\u001b[1;32m   1178\u001b[0m             \u001b[0mstr\u001b[0m\u001b[0;34m(\u001b[0m\u001b[0mprompt\u001b[0m\u001b[0;34m)\u001b[0m\u001b[0;34m,\u001b[0m\u001b[0;34m\u001b[0m\u001b[0;34m\u001b[0m\u001b[0m\n\u001b[1;32m   1179\u001b[0m             \u001b[0mself\u001b[0m\u001b[0;34m.\u001b[0m\u001b[0m_parent_ident\u001b[0m\u001b[0;34m[\u001b[0m\u001b[0;34m\"shell\"\u001b[0m\u001b[0;34m]\u001b[0m\u001b[0;34m,\u001b[0m\u001b[0;34m\u001b[0m\u001b[0;34m\u001b[0m\u001b[0m\n",
            "\u001b[0;32m/usr/local/lib/python3.12/dist-packages/ipykernel/kernelbase.py\u001b[0m in \u001b[0;36m_input_request\u001b[0;34m(self, prompt, ident, parent, password)\u001b[0m\n\u001b[1;32m   1217\u001b[0m             \u001b[0;32mexcept\u001b[0m \u001b[0mKeyboardInterrupt\u001b[0m\u001b[0;34m:\u001b[0m\u001b[0;34m\u001b[0m\u001b[0;34m\u001b[0m\u001b[0m\n\u001b[1;32m   1218\u001b[0m                 \u001b[0;31m# re-raise KeyboardInterrupt, to truncate traceback\u001b[0m\u001b[0;34m\u001b[0m\u001b[0;34m\u001b[0m\u001b[0m\n\u001b[0;32m-> 1219\u001b[0;31m                 \u001b[0;32mraise\u001b[0m \u001b[0mKeyboardInterrupt\u001b[0m\u001b[0;34m(\u001b[0m\u001b[0;34m\"Interrupted by user\"\u001b[0m\u001b[0;34m)\u001b[0m \u001b[0;32mfrom\u001b[0m \u001b[0;32mNone\u001b[0m\u001b[0;34m\u001b[0m\u001b[0;34m\u001b[0m\u001b[0m\n\u001b[0m\u001b[1;32m   1220\u001b[0m             \u001b[0;32mexcept\u001b[0m \u001b[0mException\u001b[0m\u001b[0;34m:\u001b[0m\u001b[0;34m\u001b[0m\u001b[0;34m\u001b[0m\u001b[0m\n\u001b[1;32m   1221\u001b[0m                 \u001b[0mself\u001b[0m\u001b[0;34m.\u001b[0m\u001b[0mlog\u001b[0m\u001b[0;34m.\u001b[0m\u001b[0mwarning\u001b[0m\u001b[0;34m(\u001b[0m\u001b[0;34m\"Invalid Message:\"\u001b[0m\u001b[0;34m,\u001b[0m \u001b[0mexc_info\u001b[0m\u001b[0;34m=\u001b[0m\u001b[0;32mTrue\u001b[0m\u001b[0;34m)\u001b[0m\u001b[0;34m\u001b[0m\u001b[0;34m\u001b[0m\u001b[0m\n",
            "\u001b[0;31mKeyboardInterrupt\u001b[0m: Interrupted by user"
          ]
        }
      ]
    },
    {
      "cell_type": "markdown",
      "source": [
        "Questão 3\n"
      ],
      "metadata": {
        "id": "XB6AN1UqVTe0"
      }
    },
    {
      "cell_type": "code",
      "source": [
        "print(\"Diga as 3 notas do aluno e direi a situação\")\n",
        "\n",
        "nota1 = input(\"Digite a primeira nota do aluno: \")\n",
        "nota2 = input(\"Digite a segunda nota do aluno: \")\n",
        "nota3 = input(\"Digite a terceira nota do aluno: \")\n",
        "\n",
        "media = (nota1 + nota2 + nota3) / 3\n",
        "\n",
        "print(f\"A media do aluno é: {media:.2f}\")\n",
        "\n",
        "if media == 10:\n",
        "    print(\"Aprovado com louvor\")\n",
        "if media >= 7:\n",
        "    print(\"Aprovado\")\n",
        "else:\n",
        "    print(\"Reprovado\")"
      ],
      "metadata": {
        "colab": {
          "base_uri": "https://localhost:8080/",
          "height": 391
        },
        "id": "cPkzrJDCZjB0",
        "outputId": "6b0bbd6a-db23-4057-afd2-aecdf93596b7"
      },
      "execution_count": 20,
      "outputs": [
        {
          "output_type": "stream",
          "name": "stdout",
          "text": [
            "Diga as 3 notas do aluno e direi a situação\n"
          ]
        },
        {
          "output_type": "error",
          "ename": "KeyboardInterrupt",
          "evalue": "Interrupted by user",
          "traceback": [
            "\u001b[0;31m---------------------------------------------------------------------------\u001b[0m",
            "\u001b[0;31mKeyboardInterrupt\u001b[0m                         Traceback (most recent call last)",
            "\u001b[0;32m/tmp/ipython-input-3792319764.py\u001b[0m in \u001b[0;36m<cell line: 0>\u001b[0;34m()\u001b[0m\n\u001b[1;32m      1\u001b[0m \u001b[0mprint\u001b[0m\u001b[0;34m(\u001b[0m\u001b[0;34m\"Diga as 3 notas do aluno e direi a situação\"\u001b[0m\u001b[0;34m)\u001b[0m\u001b[0;34m\u001b[0m\u001b[0;34m\u001b[0m\u001b[0m\n\u001b[1;32m      2\u001b[0m \u001b[0;34m\u001b[0m\u001b[0m\n\u001b[0;32m----> 3\u001b[0;31m \u001b[0mnota1\u001b[0m \u001b[0;34m=\u001b[0m \u001b[0minput\u001b[0m\u001b[0;34m(\u001b[0m\u001b[0;34m\"Digite a primeira nota do aluno: \"\u001b[0m\u001b[0;34m)\u001b[0m\u001b[0;34m\u001b[0m\u001b[0;34m\u001b[0m\u001b[0m\n\u001b[0m\u001b[1;32m      4\u001b[0m \u001b[0mnota2\u001b[0m \u001b[0;34m=\u001b[0m \u001b[0minput\u001b[0m\u001b[0;34m(\u001b[0m\u001b[0;34m\"Digite a segunda nota do aluno: \"\u001b[0m\u001b[0;34m)\u001b[0m\u001b[0;34m\u001b[0m\u001b[0;34m\u001b[0m\u001b[0m\n\u001b[1;32m      5\u001b[0m \u001b[0mnota3\u001b[0m \u001b[0;34m=\u001b[0m \u001b[0minput\u001b[0m\u001b[0;34m(\u001b[0m\u001b[0;34m\"Digite a terceira nota do aluno: \"\u001b[0m\u001b[0;34m)\u001b[0m\u001b[0;34m\u001b[0m\u001b[0;34m\u001b[0m\u001b[0m\n",
            "\u001b[0;32m/usr/local/lib/python3.12/dist-packages/ipykernel/kernelbase.py\u001b[0m in \u001b[0;36mraw_input\u001b[0;34m(self, prompt)\u001b[0m\n\u001b[1;32m   1175\u001b[0m                 \u001b[0;34m\"raw_input was called, but this frontend does not support input requests.\"\u001b[0m\u001b[0;34m\u001b[0m\u001b[0;34m\u001b[0m\u001b[0m\n\u001b[1;32m   1176\u001b[0m             )\n\u001b[0;32m-> 1177\u001b[0;31m         return self._input_request(\n\u001b[0m\u001b[1;32m   1178\u001b[0m             \u001b[0mstr\u001b[0m\u001b[0;34m(\u001b[0m\u001b[0mprompt\u001b[0m\u001b[0;34m)\u001b[0m\u001b[0;34m,\u001b[0m\u001b[0;34m\u001b[0m\u001b[0;34m\u001b[0m\u001b[0m\n\u001b[1;32m   1179\u001b[0m             \u001b[0mself\u001b[0m\u001b[0;34m.\u001b[0m\u001b[0m_parent_ident\u001b[0m\u001b[0;34m[\u001b[0m\u001b[0;34m\"shell\"\u001b[0m\u001b[0;34m]\u001b[0m\u001b[0;34m,\u001b[0m\u001b[0;34m\u001b[0m\u001b[0;34m\u001b[0m\u001b[0m\n",
            "\u001b[0;32m/usr/local/lib/python3.12/dist-packages/ipykernel/kernelbase.py\u001b[0m in \u001b[0;36m_input_request\u001b[0;34m(self, prompt, ident, parent, password)\u001b[0m\n\u001b[1;32m   1217\u001b[0m             \u001b[0;32mexcept\u001b[0m \u001b[0mKeyboardInterrupt\u001b[0m\u001b[0;34m:\u001b[0m\u001b[0;34m\u001b[0m\u001b[0;34m\u001b[0m\u001b[0m\n\u001b[1;32m   1218\u001b[0m                 \u001b[0;31m# re-raise KeyboardInterrupt, to truncate traceback\u001b[0m\u001b[0;34m\u001b[0m\u001b[0;34m\u001b[0m\u001b[0m\n\u001b[0;32m-> 1219\u001b[0;31m                 \u001b[0;32mraise\u001b[0m \u001b[0mKeyboardInterrupt\u001b[0m\u001b[0;34m(\u001b[0m\u001b[0;34m\"Interrupted by user\"\u001b[0m\u001b[0;34m)\u001b[0m \u001b[0;32mfrom\u001b[0m \u001b[0;32mNone\u001b[0m\u001b[0;34m\u001b[0m\u001b[0;34m\u001b[0m\u001b[0m\n\u001b[0m\u001b[1;32m   1220\u001b[0m             \u001b[0;32mexcept\u001b[0m \u001b[0mException\u001b[0m\u001b[0;34m:\u001b[0m\u001b[0;34m\u001b[0m\u001b[0;34m\u001b[0m\u001b[0m\n\u001b[1;32m   1221\u001b[0m                 \u001b[0mself\u001b[0m\u001b[0;34m.\u001b[0m\u001b[0mlog\u001b[0m\u001b[0;34m.\u001b[0m\u001b[0mwarning\u001b[0m\u001b[0;34m(\u001b[0m\u001b[0;34m\"Invalid Message:\"\u001b[0m\u001b[0;34m,\u001b[0m \u001b[0mexc_info\u001b[0m\u001b[0;34m=\u001b[0m\u001b[0;32mTrue\u001b[0m\u001b[0;34m)\u001b[0m\u001b[0;34m\u001b[0m\u001b[0;34m\u001b[0m\u001b[0m\n",
            "\u001b[0;31mKeyboardInterrupt\u001b[0m: Interrupted by user"
          ]
        }
      ]
    },
    {
      "cell_type": "markdown",
      "source": [
        "Questão 4"
      ],
      "metadata": {
        "id": "ag4k6XCDafx9"
      }
    },
    {
      "cell_type": "code",
      "source": [
        "fah = int(input(\"Diga a temperatura em fahrenheit: \"))\n",
        "\n",
        "celsius = (5 * (fah - 32)) // 9\n",
        "\n",
        "print(\"Temperatura em fahrenheit:\", fah, \"°F\")\n",
        "print(\"Temperatura convertida para Celsius:\", celsius, \"°C\")\n"
      ],
      "metadata": {
        "colab": {
          "base_uri": "https://localhost:8080/"
        },
        "id": "wbdQz00farl1",
        "outputId": "a0adb90e-e249-46c3-f784-0668394c3a08"
      },
      "execution_count": 18,
      "outputs": [
        {
          "output_type": "stream",
          "name": "stdout",
          "text": [
            "Diga o valor em fahrenheit\n",
            "Diga a temperatura em fahrenheit: 50\n",
            "Temperatura em fahrenheit: 50 °F\n",
            "Temperatura convertida para Celsius: 10 °C\n"
          ]
        }
      ]
    },
    {
      "cell_type": "markdown",
      "source": [
        "Questão 5"
      ],
      "metadata": {
        "id": "n8IaXJkocV8V"
      }
    },
    {
      "cell_type": "code",
      "source": [
        "votantes = int(input(\"Diga o número de votantes: \"))\n",
        "\n",
        "candidato1 = int(input(\"Diga o valor de votos que o candidato 1 recebeu: \"))\n",
        "candidato2 = int(input(\"Diga o valor de votos que o candidato 2 recebeu: \"))\n",
        "candidato3 = int(input(\"Diga o valor de votos que o candidato 3 recebeu: \"))\n",
        "\n",
        "\n",
        "if candidato1 > candidato2 and candidato1 > candidato3:\n",
        "    print(\"O candidato 1 recebeu mais votos.\")\n",
        "elif candidato2 > candidato1 and candidato2 > candidato3:\n",
        "    print(\"O candidato 2 recebeu mais votos.\")\n",
        "elif candidato3 > candidato1 and candidato3 > candidato2:\n",
        "    print(\"O candidato 3 recebeu mais votos.\")\n",
        "else:\n",
        "    print(\"Empate\")"
      ],
      "metadata": {
        "colab": {
          "base_uri": "https://localhost:8080/"
        },
        "id": "eOWv2Ln2cVvP",
        "outputId": "394d1dbf-6a53-4f99-976c-004e3c572b57"
      },
      "execution_count": 28,
      "outputs": [
        {
          "output_type": "stream",
          "name": "stdout",
          "text": [
            "Diga o número de votantes: 9000\n",
            "Diga o valor de votos que o candidato 1 recebeu: 555\n",
            "Diga o valor de votos que o candidato 2 recebeu: 555\n",
            "Diga o valor de votos que o candidato 3 recebeu: 666\n",
            "O candidato 3 recebeu mais votos.\n"
          ]
        }
      ]
    },
    {
      "cell_type": "markdown",
      "source": [
        "Questão 6"
      ],
      "metadata": {
        "id": "CdmtsPntf9cP"
      }
    },
    {
      "cell_type": "code",
      "source": [
        "pessoas = [\n",
        "    {\"sexo\": \"Feminino\", \"altura\": 1.62}, {\"sexo\": \"Masculino\", \"altura\": 1.78},\n",
        "    {\"sexo\": \"Feminino\", \"altura\": 1.55}, {\"sexo\": \"Masculino\", \"altura\": 1.81},\n",
        "    {\"sexo\": \"Feminino\", \"altura\": 1.68}, {\"sexo\": \"Masculino\", \"altura\": 1.74},\n",
        "    {\"sexo\": \"Feminino\", \"altura\": 1.60}, {\"sexo\": \"Masculino\", \"altura\": 1.85},\n",
        "    {\"sexo\": \"Feminino\", \"altura\": 1.58}, {\"sexo\": \"Masculino\", \"altura\": 1.79},\n",
        "    {\"sexo\": \"Feminino\", \"altura\": 1.66}, {\"sexo\": \"Masculino\", \"altura\": 1.77},\n",
        "    {\"sexo\": \"Feminino\", \"altura\": 1.63}, {\"sexo\": \"Masculino\", \"altura\": 1.72},\n",
        "    {\"sexo\": \"Feminino\", \"altura\": 1.70}, {\"sexo\": \"Masculino\", \"altura\": 1.80},\n",
        "    {\"sexo\": \"Feminino\", \"altura\": 1.61}, {\"sexo\": \"Masculino\", \"altura\": 1.75},\n",
        "    {\"sexo\": \"Feminino\", \"altura\": 1.64}, {\"sexo\": \"Masculino\", \"altura\": 1.83},\n",
        "    {\"sexo\": \"Feminino\", \"altura\": 1.59}, {\"sexo\": \"Masculino\", \"altura\": 1.76},\n",
        "    {\"sexo\": \"Feminino\", \"altura\": 1.67}, {\"sexo\": \"Masculino\", \"altura\": 1.84},\n",
        "    {\"sexo\": \"Feminino\", \"altura\": 1.60}, {\"sexo\": \"Masculino\", \"altura\": 1.73},\n",
        "    {\"sexo\": \"Feminino\", \"altura\": 1.62}, {\"sexo\": \"Masculino\", \"altura\": 1.78},\n",
        "    {\"sexo\": \"Feminino\", \"altura\": 1.56}, {\"sexo\": \"Masculino\", \"altura\": 1.82},\n",
        "    {\"sexo\": \"Feminino\", \"altura\": 1.65}, {\"sexo\": \"Masculino\", \"altura\": 1.79},\n",
        "    {\"sexo\": \"Feminino\", \"altura\": 1.69}, {\"sexo\": \"Masculino\", \"altura\": 1.77},\n",
        "    {\"sexo\": \"Feminino\", \"altura\": 1.57}, {\"sexo\": \"Masculino\", \"altura\": 1.81},\n",
        "    {\"sexo\": \"Feminino\", \"altura\": 1.64}, {\"sexo\": \"Masculino\", \"altura\": 1.75},\n",
        "    {\"sexo\": \"Feminino\", \"altura\": 1.61}, {\"sexo\": \"Masculino\", \"altura\": 1.76},\n",
        "    {\"sexo\": \"Feminino\", \"altura\": 1.58}, {\"sexo\": \"Masculino\", \"altura\": 1.80},\n",
        "    {\"sexo\": \"Feminino\", \"altura\": 1.66}, {\"sexo\": \"Masculino\", \"altura\": 1.83},\n",
        "    {\"sexo\": \"Feminino\", \"altura\": 1.68}, {\"sexo\": \"Masculino\", \"altura\": 1.74},\n",
        "    {\"sexo\": \"Feminino\", \"altura\": 1.63}, {\"sexo\": \"Masculino\", \"altura\": 1.78},\n",
        "    {\"sexo\": \"Feminino\", \"altura\": 1.59}, {\"sexo\": \"Masculino\", \"altura\": 1.82},\n",
        "]\n",
        "\n",
        "alturas = [p[\"altura\"] for p in pessoas]\n",
        "mulheres = [p[\"altura\"] for p in pessoas if p[\"sexo\"] == \"Feminino\"]\n",
        "num_homens = sum(p[\"sexo\"] == \"Masculino\" for p in pessoas)\n",
        "\n",
        "print(f\"Maior altura: {max(alturas):.2f} m\")\n",
        "print(f\"Menor altura: {min(alturas):.2f} m\")\n",
        "print(f\"Media da altura das mulheres: {sum(mulheres)/len(mulheres):.2f} m\")\n",
        "print(f\"Número de homens: {num_homens}\")\n",
        "print(f\"Porcentagem de homens: {(num_homens / len(pessoas)) * 100:.1f}%\")\n",
        "print(f\"Porcentagem de mulheres: {100 - (num_homens / len(pessoas)) * 100:.1f}%\")\n"
      ],
      "metadata": {
        "colab": {
          "base_uri": "https://localhost:8080/"
        },
        "id": "vtmYqytWgACO",
        "outputId": "43233c04-883e-4436-c9df-d2da5817e9bc"
      },
      "execution_count": 30,
      "outputs": [
        {
          "output_type": "stream",
          "name": "stdout",
          "text": [
            "Maior altura: 1.85 m\n",
            "Menor altura: 1.55 m\n",
            "Média da altura das mulheres: 1.62 m\n",
            "Número de homens: 25\n",
            "Porcentagem de homens: 50.0%\n",
            "Porcentagem de mulheres: 50.0%\n"
          ]
        }
      ]
    },
    {
      "cell_type": "markdown",
      "source": [
        "Questão 7"
      ],
      "metadata": {
        "id": "VjYdLgzznBXp"
      }
    },
    {
      "cell_type": "code",
      "source": [
        "vendas = float(input(\"Digite o valor projetado de vendas da empresa: \"))\n",
        "\n",
        "lucro = vendas * 0.23\n",
        "\n",
        "print(f\"O lucro anual projetado é de: R$ {lucro:.2f}\")\n"
      ],
      "metadata": {
        "colab": {
          "base_uri": "https://localhost:8080/"
        },
        "id": "6281MU7knFLh",
        "outputId": "420f2c16-e221-4758-cd3c-c0681fcfcf6d"
      },
      "execution_count": 32,
      "outputs": [
        {
          "output_type": "stream",
          "name": "stdout",
          "text": [
            "Digite o valor projetado de vendas da empresa: 100\n",
            "O lucro anual projetado é de: R$ 23.00\n"
          ]
        }
      ]
    },
    {
      "cell_type": "markdown",
      "source": [
        "Questão 8"
      ],
      "metadata": {
        "id": "nQniH3vVo27h"
      }
    },
    {
      "cell_type": "code",
      "source": [
        "print(\"Diga um numero inteiro e falarei se é um numero primo\")\n",
        "\n",
        "var = int(input(\"Digite um número inteiro: \"))\n",
        "\n",
        "if var % 2 == 0:\n",
        "    print(\"O número não é primo\")\n",
        "else:\n",
        "    print(\"O número é primo\")\n"
      ],
      "metadata": {
        "colab": {
          "base_uri": "https://localhost:8080/"
        },
        "id": "SAUc8Vxdo5wq",
        "outputId": "a1df2608-5a06-4d08-b807-6aa52213ad33"
      },
      "execution_count": 23,
      "outputs": [
        {
          "output_type": "stream",
          "name": "stdout",
          "text": [
            "Diga um numero inteiro e falarei se é um numero primo\n",
            "Digite um número inteiro: 10\n",
            "O número não é primo\n"
          ]
        }
      ]
    }
  ]
}
